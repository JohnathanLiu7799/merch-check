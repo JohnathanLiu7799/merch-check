{
 "cells": [
  {
   "cell_type": "code",
   "execution_count": 99,
   "id": "f1ab2bca-6ca3-4d96-836c-5c2da1ae9302",
   "metadata": {},
   "outputs": [],
   "source": [
    "from selenium import webdriver\n",
    "import pickle\n",
    "from plyer import notification"
   ]
  },
  {
   "cell_type": "code",
   "execution_count": 100,
   "id": "8d8326a8-8bf2-4d69-b6a3-14a77aabfedf",
   "metadata": {},
   "outputs": [],
   "source": [
    "try:\n",
    "    with open(\"prev_item_list\", \"rb\") as fp: \n",
    "        prev_item_list = pickle.load(fp)\n",
    "except:\n",
    "    pass"
   ]
  },
  {
   "cell_type": "code",
   "execution_count": 101,
   "id": "c9fe2e9a-dd99-4bb1-bf11-392abf8bd492",
   "metadata": {},
   "outputs": [],
   "source": [
    "url = 'https://annapurnainteractive.com/store'"
   ]
  },
  {
   "cell_type": "code",
   "execution_count": 102,
   "id": "23427982-e102-4b90-9311-1ac623072f25",
   "metadata": {},
   "outputs": [],
   "source": [
    "wd = webdriver.Chrome(executable_path='chromedriver.exe')\n",
    "wd.get(url)"
   ]
  },
  {
   "cell_type": "code",
   "execution_count": 103,
   "id": "533e156d-1b93-446b-aab1-9e7ef4f52257",
   "metadata": {},
   "outputs": [],
   "source": [
    "#we find and click the show more button\n",
    "try:\n",
    "    show_more = wd.find_element_by_css_selector('a.button:nth-child(1)')\n",
    "    show_more.click()\n",
    "#we expanded as much as possible\n",
    "except:\n",
    "    pass"
   ]
  },
  {
   "cell_type": "code",
   "execution_count": 104,
   "id": "ede72411-9959-4735-b4dc-7013e7f5ace8",
   "metadata": {},
   "outputs": [],
   "source": [
    "#get list of products\n",
    "merch_list = wd.find_element_by_css_selector('.store__list')"
   ]
  },
  {
   "cell_type": "code",
   "execution_count": 105,
   "id": "af78a453-9549-43dc-900b-308091de1eb2",
   "metadata": {},
   "outputs": [],
   "source": [
    "items = merch_list.find_elements_by_xpath(\"*\")"
   ]
  },
  {
   "cell_type": "code",
   "execution_count": 106,
   "id": "ba7e4e60-f36a-437c-ba08-ec62e05e7769",
   "metadata": {},
   "outputs": [],
   "source": [
    "curr_item_list = [item.get_attribute('innerText') for item in items]"
   ]
  },
  {
   "cell_type": "code",
   "execution_count": 107,
   "id": "b37abe3a-d1c0-43cf-9e2f-4a7f2c2a9cd1",
   "metadata": {},
   "outputs": [],
   "source": [
    "curr_item_list = [item[item.index('\\n\\n')+2:] for item in curr_item_list]"
   ]
  },
  {
   "cell_type": "code",
   "execution_count": 108,
   "id": "dbd6eeca-6519-4889-adff-133e6d632334",
   "metadata": {},
   "outputs": [],
   "source": [
    "new_items = list(set(curr_item_list) - set(prev_item_list))"
   ]
  },
  {
   "cell_type": "code",
   "execution_count": 109,
   "id": "50cda3c9-33fc-4b17-b43d-7f71732ad216",
   "metadata": {},
   "outputs": [],
   "source": [
    "discont_items = list(set(prev_item_list) - set(curr_item_list))"
   ]
  },
  {
   "cell_type": "code",
   "execution_count": 110,
   "id": "82b91f24-7400-4d12-af30-dfe6e5d5b8f6",
   "metadata": {},
   "outputs": [],
   "source": [
    "with open(\"prev_item_list\", \"wb\") as fp:  \n",
    "    pickle.dump(item_list, fp)"
   ]
  },
  {
   "cell_type": "code",
   "execution_count": 111,
   "id": "46416c4b-d5e4-4ca6-95df-3afd9b2cb21d",
   "metadata": {},
   "outputs": [],
   "source": [
    "if new_items:\n",
    "    for item in new_items:\n",
    "        notification.notify(title= 'NEW ANNAPURNA ITEM',\n",
    "                        message= item,\n",
    "                        app_icon = None,\n",
    "                        toast=False)\n",
    "if discont_items:\n",
    "    for item in discont_items:\n",
    "        notification.notify(title= 'DISCONTINUED ITEM',\n",
    "                        message= item,\n",
    "                        app_icon = None,\n",
    "                        toast=False)"
   ]
  },
  {
   "cell_type": "code",
   "execution_count": 112,
   "id": "f003c62b-7d89-46ea-9737-7e5100bb609b",
   "metadata": {},
   "outputs": [],
   "source": [
    "wd.quit()"
   ]
  },
  {
   "cell_type": "code",
   "execution_count": null,
   "id": "c0544ab8-9096-4050-929e-5784b752799f",
   "metadata": {},
   "outputs": [],
   "source": []
  }
 ],
 "metadata": {
  "kernelspec": {
   "display_name": "Python 3",
   "language": "python",
   "name": "python3"
  },
  "language_info": {
   "codemirror_mode": {
    "name": "ipython",
    "version": 3
   },
   "file_extension": ".py",
   "mimetype": "text/x-python",
   "name": "python",
   "nbconvert_exporter": "python",
   "pygments_lexer": "ipython3",
   "version": "3.8.8"
  }
 },
 "nbformat": 4,
 "nbformat_minor": 5
}
